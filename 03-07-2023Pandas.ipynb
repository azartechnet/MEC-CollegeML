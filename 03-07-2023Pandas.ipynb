{
 "cells": [
  {
   "cell_type": "code",
   "execution_count": 1,
   "id": "dfc6e310",
   "metadata": {},
   "outputs": [],
   "source": [
    "import pandas as pd"
   ]
  },
  {
   "cell_type": "code",
   "execution_count": 3,
   "id": "5b5898d6",
   "metadata": {},
   "outputs": [
    {
     "name": "stdout",
     "output_type": "stream",
     "text": [
      "Series([], dtype: float64)\n"
     ]
    },
    {
     "name": "stderr",
     "output_type": "stream",
     "text": [
      "C:\\Users\\azart\\AppData\\Local\\Temp\\ipykernel_1308\\2100218911.py:1: FutureWarning: The default dtype for empty Series will be 'object' instead of 'float64' in a future version. Specify a dtype explicitly to silence this warning.\n",
      "  s1=pd.Series()\n"
     ]
    }
   ],
   "source": [
    "s1=pd.Series()\n",
    "print(s1)"
   ]
  },
  {
   "cell_type": "code",
   "execution_count": 5,
   "id": "f7b9d7bd",
   "metadata": {},
   "outputs": [
    {
     "name": "stdout",
     "output_type": "stream",
     "text": [
      "0    10\n",
      "1    20\n",
      "2    30\n",
      "3    40\n",
      "dtype: int32\n"
     ]
    }
   ],
   "source": [
    "import numpy as np\n",
    "s2=np.array([10,20,30,40])\n",
    "s3=pd.Series(s2)\n",
    "print(s3)"
   ]
  },
  {
   "cell_type": "code",
   "execution_count": 8,
   "id": "7a7b599e",
   "metadata": {},
   "outputs": [
    {
     "name": "stdout",
     "output_type": "stream",
     "text": [
      "{'a': 1001, 'b': 1002, 'c': 1003}\n",
      "<class 'dict'>\n",
      "a    1001\n",
      "b    1002\n",
      "c    1003\n",
      "dtype: int64\n",
      "<class 'pandas.core.series.Series'>\n"
     ]
    }
   ],
   "source": [
    "d1={'a':1001,'b':1002,'c':1003}\n",
    "print(d1)\n",
    "print(type(d1))\n",
    "d2=pd.Series(d1)\n",
    "print(d2)\n",
    "print(type(d2))"
   ]
  },
  {
   "cell_type": "code",
   "execution_count": 11,
   "id": "ec4da7d6",
   "metadata": {},
   "outputs": [
    {
     "name": "stdout",
     "output_type": "stream",
     "text": [
      "0    10\n",
      "1    20\n",
      "2    30\n",
      "3    40\n",
      "dtype: int64\n",
      "1    20\n",
      "2    30\n",
      "dtype: int64\n"
     ]
    }
   ],
   "source": [
    "s=pd.Series([10,20,30,40])\n",
    "#print(s)\n",
    "print(s[0:4])\n",
    "print(s[-3:-1])"
   ]
  },
  {
   "cell_type": "code",
   "execution_count": 12,
   "id": "7370d259",
   "metadata": {},
   "outputs": [
    {
     "name": "stdout",
     "output_type": "stream",
     "text": [
      "    0\n",
      "0  10\n",
      "1  20\n",
      "2  30\n",
      "3  40\n",
      "<class 'pandas.core.frame.DataFrame'>\n"
     ]
    }
   ],
   "source": [
    "d1=[10,20,30,40]\n",
    "s1=pd.DataFrame(d1)\n",
    "print(s1)\n",
    "print(type(s1))"
   ]
  },
  {
   "cell_type": "code",
   "execution_count": 22,
   "id": "7bdcdc81",
   "metadata": {},
   "outputs": [
    {
     "name": "stdout",
     "output_type": "stream",
     "text": [
      "   r1  r2  r3\n",
      "0  10  20  30\n",
      "1  10  20  30\n",
      "2  10  20  30\n"
     ]
    }
   ],
   "source": [
    "d1={'r1':10,'r2':20,'r3':30}\n",
    "#d2={'r1':100,'r2':200,'r3':300}\n",
    "cl=[0,1,2]\n",
    "d3=pd.DataFrame(d1,cl)\n",
    "\n",
    "print(d3)"
   ]
  },
  {
   "cell_type": "code",
   "execution_count": 23,
   "id": "2cdd0e5a",
   "metadata": {},
   "outputs": [
    {
     "name": "stdout",
     "output_type": "stream",
     "text": [
      "     c1   c2\n",
      "a1  100  150\n",
      "a2  200  300\n",
      "a3  300  400\n"
     ]
    }
   ],
   "source": [
    "d1={'a1':100,'a2':200,'a3':300}\n",
    "d2={'a1':150,'a2':300,'a3':400}\n",
    "data={'c1':d1,'c2':d2}\n",
    "f=pd.DataFrame(data)\n",
    "print(f)"
   ]
  },
  {
   "cell_type": "code",
   "execution_count": 24,
   "id": "80aac8ed",
   "metadata": {},
   "outputs": [
    {
     "name": "stdout",
     "output_type": "stream",
     "text": [
      "     j1   j2   j3   j4\n",
      "f1  100  200  300  500\n",
      "f2  100  200  300  500\n"
     ]
    }
   ],
   "source": [
    "data=[{'j1':100,'j2':200,'j3':300,'j4':500}]\n",
    "f1=pd.DataFrame(data,index=['f1','f2'])\n",
    "print(f1)"
   ]
  },
  {
   "cell_type": "code",
   "execution_count": null,
   "id": "7b693724",
   "metadata": {},
   "outputs": [],
   "source": [
    "#DataFrame for Adding and deleting the column"
   ]
  },
  {
   "cell_type": "code",
   "execution_count": 26,
   "id": "cd6b4bd8",
   "metadata": {},
   "outputs": [
    {
     "name": "stdout",
     "output_type": "stream",
     "text": [
      "   one  two\n",
      "a    1    1\n",
      "b    2    2\n",
      "c    3    3\n",
      "d    5   10\n"
     ]
    }
   ],
   "source": [
    "data={'one':pd.Series([1,2,3,5],index=['a','b','c','d']),\n",
    "       'two':pd.Series([1,2,3,10],index=['a','b','c','d'])\n",
    "     }\n",
    "table=pd.DataFrame(data)\n",
    "print(table)"
   ]
  },
  {
   "cell_type": "code",
   "execution_count": 27,
   "id": "de0e3c4c",
   "metadata": {},
   "outputs": [
    {
     "name": "stdout",
     "output_type": "stream",
     "text": [
      "   one  two  three\n",
      "a    1    1     10\n",
      "b    2    2     20\n",
      "c    3    3     30\n",
      "d    5   10     40\n"
     ]
    }
   ],
   "source": [
    "#Adding the new Column\n",
    "data={'one':pd.Series([1,2,3,5],index=['a','b','c','d']),\n",
    "       'two':pd.Series([1,2,3,10],index=['a','b','c','d'])\n",
    "     }\n",
    "table=pd.DataFrame(data)\n",
    "table['three']=pd.Series([10,20,30,40],index=['a','b','c','d'])\n",
    "print(table)"
   ]
  },
  {
   "cell_type": "code",
   "execution_count": null,
   "id": "7369d8b3",
   "metadata": {},
   "outputs": [],
   "source": [
    "#DataFrame columns can be deleted using del() function"
   ]
  },
  {
   "cell_type": "code",
   "execution_count": 28,
   "id": "307bc92e",
   "metadata": {},
   "outputs": [
    {
     "name": "stdout",
     "output_type": "stream",
     "text": [
      "   one  two  three\n",
      "a    1    1     10\n",
      "b    2    2     20\n",
      "c    3    3     30\n",
      "d    5   10     40\n"
     ]
    }
   ],
   "source": [
    "print(table)"
   ]
  },
  {
   "cell_type": "code",
   "execution_count": 29,
   "id": "dedc58b3",
   "metadata": {},
   "outputs": [
    {
     "name": "stdout",
     "output_type": "stream",
     "text": [
      "   two  three\n",
      "a    1     10\n",
      "b    2     20\n",
      "c    3     30\n",
      "d   10     40\n"
     ]
    }
   ],
   "source": [
    "del table['one']\n",
    "\n",
    "print(table)"
   ]
  },
  {
   "cell_type": "code",
   "execution_count": 30,
   "id": "0493be3d",
   "metadata": {},
   "outputs": [
    {
     "data": {
      "text/plain": [
       "a    10\n",
       "b    20\n",
       "c    30\n",
       "d    40\n",
       "Name: three, dtype: int64"
      ]
     },
     "execution_count": 30,
     "metadata": {},
     "output_type": "execute_result"
    }
   ],
   "source": [
    "table.pop('three')"
   ]
  },
  {
   "cell_type": "code",
   "execution_count": 31,
   "id": "b889ee0b",
   "metadata": {},
   "outputs": [
    {
     "data": {
      "text/html": [
       "<div>\n",
       "<style scoped>\n",
       "    .dataframe tbody tr th:only-of-type {\n",
       "        vertical-align: middle;\n",
       "    }\n",
       "\n",
       "    .dataframe tbody tr th {\n",
       "        vertical-align: top;\n",
       "    }\n",
       "\n",
       "    .dataframe thead th {\n",
       "        text-align: right;\n",
       "    }\n",
       "</style>\n",
       "<table border=\"1\" class=\"dataframe\">\n",
       "  <thead>\n",
       "    <tr style=\"text-align: right;\">\n",
       "      <th></th>\n",
       "      <th>two</th>\n",
       "    </tr>\n",
       "  </thead>\n",
       "  <tbody>\n",
       "    <tr>\n",
       "      <th>a</th>\n",
       "      <td>1</td>\n",
       "    </tr>\n",
       "    <tr>\n",
       "      <th>b</th>\n",
       "      <td>2</td>\n",
       "    </tr>\n",
       "    <tr>\n",
       "      <th>c</th>\n",
       "      <td>3</td>\n",
       "    </tr>\n",
       "    <tr>\n",
       "      <th>d</th>\n",
       "      <td>10</td>\n",
       "    </tr>\n",
       "  </tbody>\n",
       "</table>\n",
       "</div>"
      ],
      "text/plain": [
       "   two\n",
       "a    1\n",
       "b    2\n",
       "c    3\n",
       "d   10"
      ]
     },
     "execution_count": 31,
     "metadata": {},
     "output_type": "execute_result"
    }
   ],
   "source": [
    "table"
   ]
  },
  {
   "cell_type": "code",
   "execution_count": null,
   "id": "af956cd6",
   "metadata": {},
   "outputs": [],
   "source": [
    "#Generate the random numbers in row and column"
   ]
  },
  {
   "cell_type": "code",
   "execution_count": 32,
   "id": "e50f90c1",
   "metadata": {},
   "outputs": [],
   "source": [
    "import pandas as pd\n",
    "import numpy as np"
   ]
  },
  {
   "cell_type": "code",
   "execution_count": 41,
   "id": "b07a3547",
   "metadata": {},
   "outputs": [
    {
     "name": "stdout",
     "output_type": "stream",
     "text": [
      "          W         X         Y         Z\n",
      "A  0.063162  0.663347  0.846524  0.190159\n",
      "B  0.079216  0.473367  0.096130  0.442081\n",
      "C  0.325253  0.786253  0.739236  0.122087\n",
      "D  0.859194  0.989211  0.060167  0.707302\n",
      "E  0.514401  0.159401  0.257315  0.095012\n"
     ]
    }
   ],
   "source": [
    "df_test=pd.DataFrame(np.random.rand(5,4),['A','B','C','D','E'],\n",
    "                    ['W','X','Y','Z'])\n",
    "print(df_test)"
   ]
  },
  {
   "cell_type": "code",
   "execution_count": 43,
   "id": "b21e975b",
   "metadata": {},
   "outputs": [
    {
     "name": "stdout",
     "output_type": "stream",
     "text": [
      "          W         X\n",
      "A  0.063162  0.663347\n",
      "B  0.079216  0.473367\n",
      "C  0.325253  0.786253\n",
      "D  0.859194  0.989211\n",
      "E  0.514401  0.159401\n"
     ]
    }
   ],
   "source": [
    "print(df_test[['W','X']])"
   ]
  },
  {
   "cell_type": "code",
   "execution_count": 44,
   "id": "b68b37a4",
   "metadata": {},
   "outputs": [
    {
     "name": "stdout",
     "output_type": "stream",
     "text": [
      "W    0.063162\n",
      "X    0.663347\n",
      "Y    0.846524\n",
      "Z    0.190159\n",
      "Name: A, dtype: float64\n"
     ]
    }
   ],
   "source": [
    "print(df_test.loc['A'])"
   ]
  },
  {
   "cell_type": "code",
   "execution_count": 46,
   "id": "5fd248e2",
   "metadata": {},
   "outputs": [
    {
     "name": "stdout",
     "output_type": "stream",
     "text": [
      "          W         X\n",
      "A  0.063162  0.663347\n",
      "B  0.079216  0.473367\n"
     ]
    }
   ],
   "source": [
    "print(df_test.loc[['A','B'],['W','X']])"
   ]
  },
  {
   "cell_type": "code",
   "execution_count": 47,
   "id": "9a2e62ca",
   "metadata": {},
   "outputs": [
    {
     "name": "stdout",
     "output_type": "stream",
     "text": [
      "          W         X         Y         Z    NEWCOL\n",
      "A  0.063162  0.663347  0.846524  0.190159  0.726509\n",
      "B  0.079216  0.473367  0.096130  0.442081  0.552583\n",
      "C  0.325253  0.786253  0.739236  0.122087  1.111507\n",
      "D  0.859194  0.989211  0.060167  0.707302  1.848405\n",
      "E  0.514401  0.159401  0.257315  0.095012  0.673802\n"
     ]
    }
   ],
   "source": [
    "df_test['NEWCOL']=df_test['W']+df_test['X']\n",
    "print(df_test)"
   ]
  },
  {
   "cell_type": "code",
   "execution_count": 51,
   "id": "309c2c5f",
   "metadata": {},
   "outputs": [
    {
     "name": "stdout",
     "output_type": "stream",
     "text": [
      "A     True\n",
      "B     True\n",
      "C    False\n",
      "D    False\n",
      "E     True\n",
      "Name: NEWCOL, dtype: bool\n"
     ]
    }
   ],
   "source": [
    "print(df_test['NEWCOL']<1.1)"
   ]
  },
  {
   "cell_type": "code",
   "execution_count": 52,
   "id": "5db2f53d",
   "metadata": {},
   "outputs": [
    {
     "name": "stdout",
     "output_type": "stream",
     "text": [
      "        crim    zn  indus  chas    nox     rm   age     dis  rad  tax  \\\n",
      "0    0.00632  18.0   2.31     0  0.538  6.575  65.2  4.0900    1  296   \n",
      "1    0.02731   0.0   7.07     0  0.469  6.421  78.9  4.9671    2  242   \n",
      "2    0.02729   0.0   7.07     0  0.469  7.185  61.1  4.9671    2  242   \n",
      "3    0.03237   0.0   2.18     0  0.458  6.998  45.8  6.0622    3  222   \n",
      "4    0.06905   0.0   2.18     0  0.458  7.147  54.2  6.0622    3  222   \n",
      "..       ...   ...    ...   ...    ...    ...   ...     ...  ...  ...   \n",
      "501  0.06263   0.0  11.93     0  0.573  6.593  69.1  2.4786    1  273   \n",
      "502  0.04527   0.0  11.93     0  0.573  6.120  76.7  2.2875    1  273   \n",
      "503  0.06076   0.0  11.93     0  0.573  6.976  91.0  2.1675    1  273   \n",
      "504  0.10959   0.0  11.93     0  0.573  6.794  89.3  2.3889    1  273   \n",
      "505  0.04741   0.0  11.93     0  0.573  6.030  80.8  2.5050    1  273   \n",
      "\n",
      "     ptratio       b  lstat  medv  \n",
      "0       15.3  396.90   4.98  24.0  \n",
      "1       17.8  396.90   9.14  21.6  \n",
      "2       17.8  392.83   4.03  34.7  \n",
      "3       18.7  394.63   2.94  33.4  \n",
      "4       18.7  396.90   5.33  36.2  \n",
      "..       ...     ...    ...   ...  \n",
      "501     21.0  391.99   9.67  22.4  \n",
      "502     21.0  396.90   9.08  20.6  \n",
      "503     21.0  396.90   5.64  23.9  \n",
      "504     21.0  393.45   6.48  22.0  \n",
      "505     21.0  396.90   7.88  11.9  \n",
      "\n",
      "[506 rows x 14 columns]\n"
     ]
    }
   ],
   "source": [
    "test1=pd.read_csv('Datasets/BostonHousing.csv')\n",
    "print(test1)"
   ]
  },
  {
   "cell_type": "code",
   "execution_count": 54,
   "id": "fae6b778",
   "metadata": {},
   "outputs": [
    {
     "name": "stdout",
     "output_type": "stream",
     "text": [
      "    A   B   C\n",
      "0  10  20  30\n",
      "1  40  50  60\n"
     ]
    }
   ],
   "source": [
    "test_df=pd.read_excel('Datasets/Online.xlsx',sheet_name=\"Sheet1\")\n",
    "print(test_df)"
   ]
  },
  {
   "cell_type": "code",
   "execution_count": 55,
   "id": "71f0ce2e",
   "metadata": {},
   "outputs": [
    {
     "data": {
      "text/html": [
       "<div>\n",
       "<style scoped>\n",
       "    .dataframe tbody tr th:only-of-type {\n",
       "        vertical-align: middle;\n",
       "    }\n",
       "\n",
       "    .dataframe tbody tr th {\n",
       "        vertical-align: top;\n",
       "    }\n",
       "\n",
       "    .dataframe thead th {\n",
       "        text-align: right;\n",
       "    }\n",
       "</style>\n",
       "<table border=\"1\" class=\"dataframe\">\n",
       "  <thead>\n",
       "    <tr style=\"text-align: right;\">\n",
       "      <th></th>\n",
       "      <th>W</th>\n",
       "      <th>X</th>\n",
       "      <th>Y</th>\n",
       "      <th>Z</th>\n",
       "      <th>NEWCOL</th>\n",
       "    </tr>\n",
       "  </thead>\n",
       "  <tbody>\n",
       "    <tr>\n",
       "      <th>A</th>\n",
       "      <td>0.063162</td>\n",
       "      <td>0.663347</td>\n",
       "      <td>0.846524</td>\n",
       "      <td>0.190159</td>\n",
       "      <td>0.726509</td>\n",
       "    </tr>\n",
       "    <tr>\n",
       "      <th>B</th>\n",
       "      <td>0.079216</td>\n",
       "      <td>0.473367</td>\n",
       "      <td>0.096130</td>\n",
       "      <td>0.442081</td>\n",
       "      <td>0.552583</td>\n",
       "    </tr>\n",
       "    <tr>\n",
       "      <th>C</th>\n",
       "      <td>0.325253</td>\n",
       "      <td>0.786253</td>\n",
       "      <td>0.739236</td>\n",
       "      <td>0.122087</td>\n",
       "      <td>1.111507</td>\n",
       "    </tr>\n",
       "    <tr>\n",
       "      <th>D</th>\n",
       "      <td>0.859194</td>\n",
       "      <td>0.989211</td>\n",
       "      <td>0.060167</td>\n",
       "      <td>0.707302</td>\n",
       "      <td>1.848405</td>\n",
       "    </tr>\n",
       "    <tr>\n",
       "      <th>E</th>\n",
       "      <td>0.514401</td>\n",
       "      <td>0.159401</td>\n",
       "      <td>0.257315</td>\n",
       "      <td>0.095012</td>\n",
       "      <td>0.673802</td>\n",
       "    </tr>\n",
       "  </tbody>\n",
       "</table>\n",
       "</div>"
      ],
      "text/plain": [
       "          W         X         Y         Z    NEWCOL\n",
       "A  0.063162  0.663347  0.846524  0.190159  0.726509\n",
       "B  0.079216  0.473367  0.096130  0.442081  0.552583\n",
       "C  0.325253  0.786253  0.739236  0.122087  1.111507\n",
       "D  0.859194  0.989211  0.060167  0.707302  1.848405\n",
       "E  0.514401  0.159401  0.257315  0.095012  0.673802"
      ]
     },
     "execution_count": 55,
     "metadata": {},
     "output_type": "execute_result"
    }
   ],
   "source": [
    "df_test.to_excel('mec.xlsx',sheet_name='mec')"
   ]
  }
 ],
 "metadata": {
  "kernelspec": {
   "display_name": "Python 3 (ipykernel)",
   "language": "python",
   "name": "python3"
  },
  "language_info": {
   "codemirror_mode": {
    "name": "ipython",
    "version": 3
   },
   "file_extension": ".py",
   "mimetype": "text/x-python",
   "name": "python",
   "nbconvert_exporter": "python",
   "pygments_lexer": "ipython3",
   "version": "3.10.9"
  }
 },
 "nbformat": 4,
 "nbformat_minor": 5
}

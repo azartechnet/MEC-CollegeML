{
 "cells": [
  {
   "cell_type": "code",
   "execution_count": 1,
   "id": "9ef39cc8",
   "metadata": {},
   "outputs": [
    {
     "name": "stdout",
     "output_type": "stream",
     "text": [
      "Welcome to the Sample\n"
     ]
    }
   ],
   "source": [
    "def Sample():#function declarations\n",
    "    print(\"Welcome to the Sample\")\n",
    "Sample()#function calling"
   ]
  },
  {
   "cell_type": "code",
   "execution_count": 3,
   "id": "76e82b98",
   "metadata": {},
   "outputs": [
    {
     "name": "stdout",
     "output_type": "stream",
     "text": [
      "Your empid is:: 1001 Your empname:: azar\n"
     ]
    }
   ],
   "source": [
    "def Sample(empid,empname):\n",
    "    print(\"Your empid is::\",empid,\"Your empname::\",empname)\n",
    "Sample(1001,\"azar\")"
   ]
  }
 ],
 "metadata": {
  "kernelspec": {
   "display_name": "Python 3 (ipykernel)",
   "language": "python",
   "name": "python3"
  },
  "language_info": {
   "codemirror_mode": {
    "name": "ipython",
    "version": 3
   },
   "file_extension": ".py",
   "mimetype": "text/x-python",
   "name": "python",
   "nbconvert_exporter": "python",
   "pygments_lexer": "ipython3",
   "version": "3.10.9"
  }
 },
 "nbformat": 4,
 "nbformat_minor": 5
}
